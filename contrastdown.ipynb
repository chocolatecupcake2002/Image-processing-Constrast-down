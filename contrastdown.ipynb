{
 "cells": [
  {
   "cell_type": "code",
   "execution_count": 1,
   "id": "1a72231f",
   "metadata": {},
   "outputs": [],
   "source": [
    "import cv2\n",
    "import numpy as np\n",
    "import glob\n",
    "import matplotlib.pyplot as plt\n",
    "from PIL import Image, ImageEnhance\n",
    "Extension=\".jpg\"\n",
    "Extension=\".jpg\""
   ]
  },
  {
   "cell_type": "code",
   "execution_count": 2,
   "id": "d89dc57d",
   "metadata": {},
   "outputs": [],
   "source": [
    "Extension=\".jpg\""
   ]
  },
  {
   "cell_type": "code",
   "execution_count": 3,
   "id": "44a429ed",
   "metadata": {},
   "outputs": [],
   "source": [
    "def cont_aug(foldername):\n",
    "    array_of_images = glob.glob(foldername + \"/*.jpg\") \n",
    "    for image in array_of_images:\n",
    "        img = cv2.imread(image)\n",
    "        img_name = image.split(foldername+\"\\\\\")[1].split(\".jpg\")[0]\n",
    "        cont_image(img,img_name)\n",
    "        \n",
    "def cont_image(src,img_name):\n",
    "    file = src\n",
    "    im = Image.open(folder+\"/\"+img_name+\".jpg\")\n",
    "    enhancer = ImageEnhance.Contrast(im)\n",
    "    factor = 0.75 #decrease constrast\n",
    "    im_output = enhancer.enhance(factor)\n",
    "    im_output.save(folder1 + \"/\"+img_name+\"-lesscontrast\" + Extension)\n",
    "   "
   ]
  },
  {
   "cell_type": "code",
   "execution_count": 4,
   "id": "6fab9139",
   "metadata": {},
   "outputs": [],
   "source": [
    "folder = \"/Users/aishu/KNEEDATA4/ANTHEM/anthemAPaugmentation/anthemapzoomincontdw\"\n",
    "folder1=\"/Users/aishu/KNEEDATA4/ANTHEM/anthemAPaugmentation/anthemapzoomincontdown3deg\"\n",
    "cont_aug(folder)"
   ]
  },
  {
   "cell_type": "code",
   "execution_count": null,
   "id": "80c31726",
   "metadata": {},
   "outputs": [],
   "source": []
  },
  {
   "cell_type": "code",
   "execution_count": null,
   "id": "9404da93",
   "metadata": {},
   "outputs": [],
   "source": []
  },
  {
   "cell_type": "code",
   "execution_count": null,
   "id": "cc633ec4",
   "metadata": {},
   "outputs": [],
   "source": []
  }
 ],
 "metadata": {
  "kernelspec": {
   "display_name": "Python 3 (ipykernel)",
   "language": "python",
   "name": "python3"
  },
  "language_info": {
   "codemirror_mode": {
    "name": "ipython",
    "version": 3
   },
   "file_extension": ".py",
   "mimetype": "text/x-python",
   "name": "python",
   "nbconvert_exporter": "python",
   "pygments_lexer": "ipython3",
   "version": "3.9.13"
  }
 },
 "nbformat": 4,
 "nbformat_minor": 5
}
