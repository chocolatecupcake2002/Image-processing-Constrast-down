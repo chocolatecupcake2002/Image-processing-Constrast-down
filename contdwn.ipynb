{
 "cells": [
  {
   "cell_type": "code",
   "execution_count": 81,
   "id": "14b511ab",
   "metadata": {},
   "outputs": [],
   "source": [
    "import cv2\n",
    "import numpy as np\n",
    "import glob\n",
    "import matplotlib.pyplot as plt\n",
    "from PIL import Image, ImageEnhance"
   ]
  },
  {
   "cell_type": "code",
   "execution_count": 82,
   "id": "eeefa86c",
   "metadata": {},
   "outputs": [],
   "source": [
    "Extension=\".jpg\""
   ]
  },
  {
   "cell_type": "code",
   "execution_count": 83,
   "id": "d788cf76",
   "metadata": {},
   "outputs": [],
   "source": [
    "def cont_aug(foldername):\n",
    "    array_of_images = glob.glob(foldername + \"/*.jpg\") \n",
    "    for image in array_of_images:\n",
    "        img = cv2.imread(image)\n",
    "        img_name = image.split(foldername+\"\\\\\")[1].split(\".jpg\")[0]\n",
    "        cont_image(img,img_name)\n",
    "        \n",
    "def cont_image(src,img_name):\n",
    "    file = src\n",
    "    im = Image.open(folder+\"/\"+img_name+\".jpg\")\n",
    "    enhancer = ImageEnhance.Contrast(im)\n",
    "    factor = 0.75 #decrease constrast\n",
    "    im_output = enhancer.enhance(factor)\n",
    "    im_output.save(folder1 + \"/\"+img_name+\"-lesscontrast\" + Extension)"
   ]
  },
  {
   "cell_type": "code",
   "execution_count": 84,
   "id": "7bb6207c",
   "metadata": {},
   "outputs": [],
   "source": [
    "folder = \"/Users/aishu/KNEEDATA4/VANGUARD/vanguardLATaugmentation/vangugardLatzoomout\"\n",
    "folder1= \"/Users/aishu/KNEEDATA4/VANGUARD/vanguardLATaugmentation/VanguardLATzoomoutcontrastdown\"\n",
    "cont_aug(folder)"
   ]
  },
  {
   "cell_type": "code",
   "execution_count": null,
   "id": "d8ebe043",
   "metadata": {},
   "outputs": [],
   "source": []
  },
  {
   "cell_type": "code",
   "execution_count": null,
   "id": "853e260e",
   "metadata": {},
   "outputs": [],
   "source": []
  }
 ],
 "metadata": {
  "kernelspec": {
   "display_name": "Python 3 (ipykernel)",
   "language": "python",
   "name": "python3"
  },
  "language_info": {
   "codemirror_mode": {
    "name": "ipython",
    "version": 3
   },
   "file_extension": ".py",
   "mimetype": "text/x-python",
   "name": "python",
   "nbconvert_exporter": "python",
   "pygments_lexer": "ipython3",
   "version": "3.9.13"
  }
 },
 "nbformat": 4,
 "nbformat_minor": 5
}
